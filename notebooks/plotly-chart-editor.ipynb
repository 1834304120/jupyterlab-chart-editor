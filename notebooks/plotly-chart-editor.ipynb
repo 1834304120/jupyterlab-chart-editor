{
 "cells": [
  {
   "cell_type": "markdown",
   "metadata": {},
   "source": [
    "# plotly-editor-extension"
   ]
  },
  {
   "cell_type": "markdown",
   "metadata": {},
   "source": [
    "## PlotlyEditor(data: list)"
   ]
  },
  {
   "cell_type": "code",
   "execution_count": 1,
   "metadata": {},
   "outputs": [
    {
     "data": {
      "application/vnd.plotly-editor.v1+json": {
       "col1": [
        1,
        2,
        3
       ],
       "col2": [
        4,
        3,
        2
       ],
       "col3": [
        17,
        13,
        9
       ]
      }
     },
     "metadata": {},
     "output_type": "display_data"
    }
   ],
   "source": [
    "from IPython.display import display\n",
    "\n",
    "def PlotlyEditor(data=[]):\n",
    "    bundle = {}\n",
    "    bundle['application/vnd.plotly-editor.v1+json'] = data\n",
    "    display(bundle, raw=True)\n",
    "\n",
    "data = {\n",
    "    'col1': [1, 2, 3],\n",
    "    'col2': [4, 3, 2],\n",
    "    'col3': [17, 13, 9],\n",
    "}\n",
    "\n",
    "PlotlyEditor(data)"
   ]
  },
  {
   "cell_type": "code",
   "execution_count": null,
   "metadata": {},
   "outputs": [],
   "source": []
  }
 ],
 "metadata": {
  "kernelspec": {
   "display_name": "Python 3",
   "language": "python",
   "name": "python3"
  },
  "language_info": {
   "codemirror_mode": {
    "name": "ipython",
    "version": 3
   },
   "file_extension": ".py",
   "mimetype": "text/x-python",
   "name": "python",
   "nbconvert_exporter": "python",
   "pygments_lexer": "ipython3",
   "version": "3.5.4"
  },
  "widgets": {
   "application/vnd.jupyter.widget-state+json": {
    "state": {},
    "version_major": 1,
    "version_minor": 0
   }
  }
 },
 "nbformat": 4,
 "nbformat_minor": 2
}
